{
  "nbformat": 4,
  "nbformat_minor": 0,
  "metadata": {
    "colab": {
      "provenance": [],
      "include_colab_link": true
    },
    "kernelspec": {
      "name": "python3",
      "display_name": "Python 3"
    },
    "language_info": {
      "name": "python"
    }
  },
  "cells": [
    {
      "cell_type": "markdown",
      "metadata": {
        "id": "view-in-github",
        "colab_type": "text"
      },
      "source": [
        "<a href=\"https://colab.research.google.com/github/MQuynh/DOANCTDL/blob/master/TSP.ipynb\" target=\"_parent\"><img src=\"https://colab.research.google.com/assets/colab-badge.svg\" alt=\"Open In Colab\"/></a>"
      ]
    },
    {
      "cell_type": "code",
      "execution_count": null,
      "metadata": {
        "id": "KghOxrHU5UAX"
      },
      "outputs": [],
      "source": [
        "import sys\n",
        "# Hàm để tìm đường đi ngắn nhất từ điểm hiện tại đến các điểm khác\n",
        "def tsp_backtrack(graph, visited, current, count, cost, min_cost, path, min_path):\n",
        "    # Nếu đã duyệt hết tất cả các đỉnh\n",
        "    if count == len(graph):\n",
        "        # Kiểm tra xem đường đi từ đỉnh cuối cùng về đỉnh đầu tiên có tồn tại không\n",
        "        if graph[current][0] > 0:\n",
        "            # Cập nhật min_cost và min_path\n",
        "            if cost + graph[current][0] < min_cost:\n",
        "                min_cost = cost + graph[current][0]\n",
        "                min_path = path + [0]\n",
        "        return (min_cost, min_path)\n",
        "    \n",
        "    # Duyệt qua tất cả các đỉnh\n",
        "    for i in range(len(graph)):\n",
        "        # Nếu đỉnh chưa được duyệt\n",
        "        if visited[i] == False and graph[current][i] > 0:\n",
        "            # Đánh dấu đỉnh i đã được duyệt và thêm i vào path\n",
        "            visited[i] = True\n",
        "            path.append(i)\n",
        "            # Gọi đệ quy để tiếp tục tìm đường đi\n",
        "            min_cost, min_path = tsp_backtrack(graph, visited, i, count+1, cost+graph[current][i], min_cost, path, min_path)\n",
        "            # Bỏ đánh dấu đỉnh i và xóa i khỏi path\n",
        "            visited[i] = False\n",
        "            path.pop()\n",
        "    \n",
        "    return (min_cost, min_path)"
      ]
    },
    {
      "cell_type": "code",
      "source": [
        "# Hàm để tính toán đường đi ngắn nhất và hiển thị đường đi tối ưu nhất\n",
        "def tsp(graph):\n",
        "    # Khởi tạo visited và đánh dấu điểm đầu tiên đã được duyệt\n",
        "    visited = [False] * len(graph)\n",
        "    visited[0] = True\n",
        "    \n",
        "    # Gọi hàm tsp_backtrack để tìm đường đi ngắn nhất và lưu trữ đường đi tối ưu nhất\n",
        "    min_cost = sys.maxsize\n",
        "    min_path = []\n",
        "    path = [0]\n",
        "    min_cost, min_path = tsp_backtrack(graph, visited, 0, 1, 0, min_cost, path, min_path)\n",
        "    \n",
        "    # Hiển thị đường đi tối ưu nhất\n",
        "    print(\" Đường đi tối ưu nhất:\", min_path,\"\\n\", \"Chi phí:\", min_cost)\n",
        "    return min_cost"
      ],
      "metadata": {
        "id": "UY2SKWVG5UlF"
      },
      "execution_count": null,
      "outputs": []
    },
    {
      "cell_type": "code",
      "source": [
        "#test\n",
        "if __name__ == '__main__':\n",
        "  graph= [[ 0,    17.3, -1,   -1,   -1,   29.7,  -1,   -1,   -1  ],\n",
        "          [ 17.3, 0,    36.6, 16.6, 17.2, 35.3,  -1,   -1,   -1  ],\n",
        "          [ -1,   36.6, 0,    9,    -1,   -1,    26.1, -1,   -1  ],\n",
        "          [ -1,   16.6, 9,    0,    11.1, -1,    24.4, 40.1, -1  ],\n",
        "          [ -1,   17.2, -1,   11.1, 0,    19.6,  -1,   42.3, -1  ],\n",
        "          [ 29.7, 35.3, -1,   -1,   19.6, 0,     -1,   51.8, 18.5],\n",
        "          [ -1,   -1,   26.1, 24.4, -1,   -1,    0,    25.7, -1  ],\n",
        "          [ -1,   -1,   -1,   40.1, 42.3, 51.8,  25.7, 0,    16.4],\n",
        "          [ -1,   -1,   -1,   -1,   -1,   18.5,  -1,   16.4, 0   ]]\n",
        "  tsp(graph)"
      ],
      "metadata": {
        "colab": {
          "base_uri": "https://localhost:8080/"
        },
        "id": "eiKr73bL5Utm",
        "outputId": "2e89679d-6593-4a14-e612-33e580a6d2d8"
      },
      "execution_count": null,
      "outputs": [
        {
          "output_type": "stream",
          "name": "stdout",
          "text": [
            " Đường đi tối ưu nhất: [0, 1, 4, 3, 2, 6, 7, 8, 5, 0] \n",
            " Chi phí: 171.0\n"
          ]
        }
      ]
    }
  ]
}